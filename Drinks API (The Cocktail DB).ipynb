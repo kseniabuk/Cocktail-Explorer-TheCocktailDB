{
 "cells": [
  {
   "cell_type": "code",
   "execution_count": 2,
   "id": "a62dfa00",
   "metadata": {},
   "outputs": [
    {
     "data": {
      "text/plain": [
       "(636, 51)"
      ]
     },
     "execution_count": 2,
     "metadata": {},
     "output_type": "execute_result"
    }
   ],
   "source": [
    "import json\n",
    "import urllib3\n",
    "import config\n",
    "import pandas as pd\n",
    "import string\n",
    "\n",
    "http = urllib3.PoolManager()\n",
    "call_string = 'www.thecocktaildb.com/api/json/' + config.api_version + '/' + config.api_key + '/search.php?f=' \n",
    "\n",
    "df_list = []\n",
    "for i in string.ascii_lowercase:\n",
    "    try :\n",
    "        response = http.request('GET', call_string + i)\n",
    "        data = json.loads(response.data)\n",
    "        single_df = pd.json_normalize(data['drinks'])\n",
    "        df_list.append(single_df)\n",
    "    except:\n",
    "        pass\n",
    "\n",
    "for i in range(10):\n",
    "    try :\n",
    "        response = http.request('GET', call_string + str(i))\n",
    "        data = json.loads(response.data)\n",
    "        single_df = pd.json_normalize(data['drinks'])\n",
    "        df_list.append(single_df)\n",
    "    except:\n",
    "        pass\n",
    "\n",
    "\n",
    "df = pd.concat(df_list)\n",
    "df.shape"
   ]
  },
  {
   "cell_type": "code",
   "execution_count": 3,
   "id": "5bf91a8b",
   "metadata": {},
   "outputs": [
    {
     "name": "stdout",
     "output_type": "stream",
     "text": [
      "['strIngredient1', 'strIngredient2', 'strIngredient3', 'strIngredient4', 'strIngredient5', 'strIngredient6', 'strIngredient7', 'strIngredient8', 'strIngredient9', 'strIngredient10', 'strIngredient11', 'strIngredient12', 'strIngredient13', 'strIngredient14', 'strIngredient15', 'idDrink']\n",
      "['strMeasure1', 'strMeasure2', 'strMeasure3', 'strMeasure4', 'strMeasure5', 'strMeasure6', 'strMeasure7', 'strMeasure8', 'strMeasure9', 'strMeasure10', 'strMeasure11', 'strMeasure12', 'strMeasure13', 'strMeasure14', 'strMeasure15', 'idDrink']\n"
     ]
    }
   ],
   "source": [
    "df.to_excel('drinks.xlsx')\n",
    "cols = df.columns.to_list()\n",
    "ing_cols = []\n",
    "meas_cols = []\n",
    "rem_cols = []\n",
    "\n",
    "for c in range(len(cols)):\n",
    "    if 'strIngredient' in cols[c]:\n",
    "        ing_cols.append(cols[c])\n",
    "    if 'strMeasure' in cols[c]:\n",
    "        meas_cols.append(cols[c])\n",
    "    if 'strIngredient' not in cols[c] and 'strMeasure' not in cols[c]:\n",
    "        rem_cols.append(cols[c])\n",
    "\n",
    "ing_cols.append('idDrink')\n",
    "meas_cols.append('idDrink')\n",
    "print(ing_cols)\n",
    "print(meas_cols)"
   ]
  },
  {
   "cell_type": "code",
   "execution_count": 4,
   "id": "ad9ba8c5",
   "metadata": {},
   "outputs": [],
   "source": [
    "df_ing = df[ing_cols].melt(id_vars = 'idDrink')\n",
    "df_meas = df[meas_cols].melt(id_vars = 'idDrink')\n",
    "\n",
    "# getting index to match ingredient to volume\n",
    "df_ing['ing_id'] = df_ing['variable'].replace('(strIngredient)', '', regex=True)\n",
    "df_meas['meas_id'] = df_meas['variable'].replace('(strMeasure)', '', regex=True)\n",
    "\n",
    "# filtering out Nones\n",
    "df_ing = df_ing[df_ing['value'].notnull()]\n",
    "df_meas = df_meas[df_meas['value'].notnull()]\n",
    "\n",
    "# ingredient merge\n",
    "ing_meas = pd.merge(df_ing, df_meas, how = 'left', left_on = ['idDrink', 'ing_id'], right_on = ['idDrink', 'meas_id'])\n",
    "ing_meas = ing_meas[['idDrink', 'ing_id', 'value_x', 'value_y']]\n",
    "\n",
    "# final dataframe merge \n",
    "final_df = pd.merge(df[rem_cols], ing_meas, how = 'left', left_on = 'idDrink', right_on = 'idDrink')\n",
    "final_df.sort_values('idDrink').head(50)\n",
    "\n",
    "final_df.to_excel('drinks_rollout.xlsx')"
   ]
  },
  {
   "cell_type": "code",
   "execution_count": null,
   "id": "efdcc5b8",
   "metadata": {},
   "outputs": [],
   "source": []
  }
 ],
 "metadata": {
  "kernelspec": {
   "display_name": "Python 3 (ipykernel)",
   "language": "python",
   "name": "python3"
  },
  "language_info": {
   "codemirror_mode": {
    "name": "ipython",
    "version": 3
   },
   "file_extension": ".py",
   "mimetype": "text/x-python",
   "name": "python",
   "nbconvert_exporter": "python",
   "pygments_lexer": "ipython3",
   "version": "3.10.0"
  }
 },
 "nbformat": 4,
 "nbformat_minor": 5
}
